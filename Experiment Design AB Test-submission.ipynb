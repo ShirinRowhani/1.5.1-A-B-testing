{
 "cells": [
  {
   "cell_type": "markdown",
   "metadata": {},
   "source": [
    "# 1. Experiment Design"
   ]
  },
  {
   "cell_type": "markdown",
   "metadata": {},
   "source": [
    "## 1.1 Setting the Stage\n",
    "\n",
    "\n",
    "The Institute for Professional Education (IPE),provides specialization courses for its undergraduate and master degree graduates. IPE courses have two options on the course overview page: \"Start Free Trial\", and \"Audit the Course\".\n",
    "\n",
    "If the student clicks \"Start Free Trial\", he/she needs to provide his/her credit card information. Doing so the student will be enrolled in a free trial for the paid version of the course for 2 weeks. After the trial period, if the student does not cancel the registration, he/she will be charged.\n",
    "\n",
    "If the student clicks \"Audit the Course\", he/she gets access to all the course materials for free. However, the student will  not receive one-on-one support from a mentor, feedback on projects and a verified certificate.\n",
    "\n",
    "\n",
    "In the experiment, we are testing a change where if the student clicks \"Start Free Trial\", they are asked for how many hours a week they can commit to the couse. If the student indicated 5 or more hours per week, they would be taken through the checkout process as usual. If they indicated less than 5 hours per week, a message would appear expressing that to be successful in professional courses and getting much value from the paid version of the course, they need to commit more hours per week to the course. Therefore, IPE suggests the student to audit the course for free. At this point, the student can choose to continue with the free trial, or audit the course for free instead. \n",
    "\n",
    "\n",
    "The hypothesis is that by informing the students in advance about the amount of time they need to successfuly complete the course, we reduce the number of drop outs during the free trial. This provides us with a better estimate of the number of students that will continue the free trial and register for the course. \n",
    "If this hypothesis holds true, IPE could manage its mentoring resources better to support students who are more likely to register for the paid version and complete the course.\n",
    "\n",
    "The screenshots of the two versions of the experiment are documented. \n",
    "\n",
    "The unit of diversion is a cookie. However, after the student enrolls in the free trial, he/she is tracked by user-id. Each user_id can enroll in the free trial only once. For users that do not enroll, their user-id is not tracked in the experiment, even if they were signed in when they visited the course overview page.\n"
   ]
  },
  {
   "cell_type": "markdown",
   "metadata": {},
   "source": [
    "## 1.2  Metric Choice\n",
    "\n",
    "At this step, we define the metrics we could use to measure the experiment. In the following metrics whereever the term \"unique cookies\" is used it means the cookie visiting on the same day is counted once. If the same cookie visits on a different day, it would  be counted twice. User-ids are automatically unique since the site does not allow the same user-id to enroll twice.\n",
    "\n",
    "The metrics will be used for this experiment are listed bellow. Some of the metrics are invariant checking metrics. These are the metrics that shouldn't change across the experiment and control. Other metrics are the evaluation metrics that measure the experiment outcome. \n",
    "\n",
    "### 1.2.1 User's funnel:\n",
    "\n",
    "First, we need to define the user's funnel from top to button:\n",
    "\n",
    "Course overview page visit\n",
    "Click the \"Start Free trial\" button\n",
    "(screener on version B)\n",
    "Enrollment in the free trial \n",
    "Enrollment in the paid course\n",
    "Course completion\n",
    "\n",
    "### 1.2.2 Invariant cheching:\n",
    "\n",
    "\n",
    "a. Number of cookies: That is, number of unique cookies to view the course overview page. (dmin=3000)\n",
    "\n",
    "We choose this invariant metric to sanity chack our data and make sure the same number of users visits the two version of the page. \n",
    "\n",
    "b. (CTR ?) Number of clicks: That is, number of unique cookies to click the \"Start Free Trial\" button (which happens before the free trial screener is triggered). (dmin=240)\n",
    "\n",
    "This is an invariant metric to check if the same number of people in both groups use the \"Start Free Trail\" botton.\n",
    "\n",
    "### 1.2.3 Evaluation metrics:\n",
    "\n",
    "\n",
    "To compare the two groups in our experiment in terms of the outcome:\n",
    "\n",
    "Does the change result in less drop outs during the free trial?\n",
    "\n",
    "\n",
    "#### Success metric:\n",
    "\n",
    "Retention: That is, number of user-ids to remain enrolled past the 14-day boundary (and thus make at least one payment) divided by number of user-ids to complete checkout. (dmin=0.01)\n",
    "\n",
    "This is an evaluation metric that measure the progression from enrollment in the free trial to enrollment in the paid course. We need this metric to assess the result of the change we made in users' retention.\n",
    "\n",
    "A positive change in retention will be sufficient in order to launch the experiment.\n",
    "\n",
    "#### Secondary metric:\n",
    "\n",
    "Number of user-ids: That is, number of users who enroll in the free trial. (dmin=50)\n",
    "\n",
    "This is an evaluation metric. We need the absolute number of users who enroll in the free trial for both groups to compare the impact of our new screener. \n",
    "\n",
    "### 1.2.4 Practical significance boundary\n",
    "\n",
    "The practical significance boundary for each metric, that is, the difference that would have to be observed before that was a meaningful change for the business, is given in parentheses. All practical significance boundaries are given as absolute changes.\n"
   ]
  },
  {
   "cell_type": "markdown",
   "metadata": {},
   "source": [
    "## 1.3 Segmentation and Filtering"
   ]
  },
  {
   "cell_type": "markdown",
   "metadata": {},
   "source": [
    "IPE only provides professional courses for its own graduates living in the country the university is located. Therefore, it is possible to filter out the pageviews that come from outside of the country. "
   ]
  },
  {
   "cell_type": "markdown",
   "metadata": {},
   "source": [
    "## 1.4 Selection Bias and Treshold for A/B Test"
   ]
  },
  {
   "cell_type": "markdown",
   "metadata": {},
   "source": [
    "In this section we want to check there is no bias when it comes to sample selection (Selection Bias). Therefore, our sample does not differ from the population in some way. Consequently, conclusions based on our sample could be applied to the population. In addition, if there are no bugs or problems, the size of the difference between groups can be used to define a threshold for the A/B testing. If the differences between the control group and the test group would be smaller than the defined treshhold, the difference is assumed to be due to chance.\n",
    "\n",
    "Two methods are used to check for selection bias: \n",
    "\n",
    "a. Analytic estimate of the variability\n",
    "\n",
    "b. A/A testing"
   ]
  },
  {
   "cell_type": "markdown",
   "metadata": {},
   "source": [
    "#### Rough estimates of the baseline values for the metrics are presented below:\n",
    "\n",
    "Unique cookies to view course overview page per day:\t40000\n",
    "\n",
    "Unique cookies to click \"Start free trial\" per day:\t3200\n",
    "\n",
    "Enrollments per day:\t660\n",
    "\n",
    "Click-through-probability on \"Start free trial\":\t0.08\n",
    "\n",
    "Probability of enrolling, given click:\t0.20625\n",
    "\n",
    "Probability of payment, given enroll:\t0.53\n",
    "\n",
    "Probability of payment, given click\t0.1093125"
   ]
  },
  {
   "cell_type": "markdown",
   "metadata": {},
   "source": [
    "###  1.4.1 Analytic Estimate of Variability"
   ]
  },
  {
   "cell_type": "markdown",
   "metadata": {},
   "source": [
    "For each metric we selected as an evaluation metric, we make an analytic estimate of its standard deviation given the sample size of 5000 coockies visiting the course overview webpage.  "
   ]
  },
  {
   "cell_type": "markdown",
   "metadata": {},
   "source": [
    "Retention: That is, number of user-ids to remain enrolled past the 14-day boundary (and thus make at least one payment) divided by number of user-ids to complete checkout. (dmin=0.01)\n",
    "\n",
    "Type of metric:Probability\n",
    "\n",
    "Distribution: Binominal(normal)\n",
    "\n",
    "Estimated variance = 0.53(1-0.53)/5000= 0.00004982\n",
    "\n",
    "Estimated Standard Error = 0.0071\n",
    "\n",
    "m=zxSE\n",
    "\n",
    "m=1.96x0.0071 \n",
    "m=0.0138\n",
    "\n",
    "0.53+ 0.0138 =0.5438\n",
    "\n",
    "0.53-0.0138= 0.5162\n",
    "\n",
    "It means if we run the experiment for another 5000 times retention probability will be between 0.5162 and 0.5438\n",
    "\n",
    "\n",
    "\n",
    "\n",
    "Number of user-ids: That is, number of users who enroll in the free trial. (dmin=50)\n",
    "\n",
    "Type of metric:Count(difference)\n",
    "\n",
    "p^ = 660/5000=0.132 \n",
    "\n",
    "Distribution: Check N*P^>5 -> Normal\n",
    "\n",
    "Estimated variance = 0.132*(1-0.132)/5000= 0.0000229\n",
    "\n",
    "Estimated Standard Error = 0.0047\n",
    "m=z*SE\n",
    "\n",
    "m=1.96x0.0047\n",
    "m=0.009212\n",
    "\n",
    "0.132+ 0.009212 =0.1412\n",
    "\n",
    "0.132-.009212= 0.1228\n",
    "\n",
    "\n",
    "It means if we run the experiment for another 5000 times the number of users who enroll in the free trial will be between 614 and 706.\n",
    "\n",
    "\n",
    "\n",
    "\n"
   ]
  },
  {
   "cell_type": "markdown",
   "metadata": {},
   "source": [
    "### 1.4.2 Empirical estimate of variability (A/A Testing)"
   ]
  },
  {
   "cell_type": "markdown",
   "metadata": {},
   "source": [
    "At this point we can do A/A testing couple of times and compare the analytic estimate to empirical variability. Usually the analytic estimate gives us an underestimated range mainly due to the underlying assumption we make for the type of distribution.\n",
    "\n",
    "A/A testing is a class of A/B testing where we have a control A against another control A. Therefore, there is no change in what the users are seeing. That means any differences that are measured, may be due to underlying variability of the system, the users' population, the users' activity etc.\n",
    "A/A test can also be used to test the sensitivity and robustness of the metrics. In this project because the assumption about the type of distribution of the success metric is not complecated. Therefore we consider analytic estimate as a good approximation of the variability. "
   ]
  },
  {
   "cell_type": "markdown",
   "metadata": {},
   "source": [
    "# 2. Analyzing Results"
   ]
  },
  {
   "cell_type": "markdown",
   "metadata": {},
   "source": [
    "The meaning of each column is:\n",
    "\n",
    "● Pageviews: Number of unique cookies to view the course overview page that day.\n",
    "\n",
    "● Clicks: Number of unique cookies to click the course overview page that day.\n",
    "\n",
    "● Enrollments: Number of user-ids to enroll in the free trial that day.\n",
    "\n",
    "● Payments: Number of user-ids who who enrolled on that day to remain enrolled for 14 days and thus make a payment. (Note that the date for this column is the start date, that is, the date of enrollment, rather than the date of the payment. The payment happened 14 days later. Because of this, the enrollments and payments are tracked for 14 fewer days than the other columns.)\n"
   ]
  },
  {
   "cell_type": "code",
   "execution_count": 2,
   "metadata": {},
   "outputs": [],
   "source": [
    "%matplotlib inline\n",
    "import pandas as pd\n",
    "import numpy as np\n",
    "import seaborn as sns\n",
    "from matplotlib import pyplot as plt\n",
    "from scipy import stats"
   ]
  },
  {
   "cell_type": "code",
   "execution_count": 3,
   "metadata": {},
   "outputs": [],
   "source": [
    "cont_data= pd.read_csv('Final Project Results - Control.csv', parse_dates=True)\n",
    "exp_data = pd.read_csv('Final Project Results - Experiment.csv', parse_dates=True)"
   ]
  },
  {
   "cell_type": "code",
   "execution_count": 4,
   "metadata": {},
   "outputs": [
    {
     "data": {
      "text/html": [
       "<div>\n",
       "<style scoped>\n",
       "    .dataframe tbody tr th:only-of-type {\n",
       "        vertical-align: middle;\n",
       "    }\n",
       "\n",
       "    .dataframe tbody tr th {\n",
       "        vertical-align: top;\n",
       "    }\n",
       "\n",
       "    .dataframe thead th {\n",
       "        text-align: right;\n",
       "    }\n",
       "</style>\n",
       "<table border=\"1\" class=\"dataframe\">\n",
       "  <thead>\n",
       "    <tr style=\"text-align: right;\">\n",
       "      <th></th>\n",
       "      <th>Date</th>\n",
       "      <th>Pageviews</th>\n",
       "      <th>Clicks</th>\n",
       "      <th>Enrollments</th>\n",
       "      <th>Payments</th>\n",
       "    </tr>\n",
       "  </thead>\n",
       "  <tbody>\n",
       "    <tr>\n",
       "      <th>0</th>\n",
       "      <td>Sat, Oct 11</td>\n",
       "      <td>7716</td>\n",
       "      <td>686</td>\n",
       "      <td>105.0</td>\n",
       "      <td>34.0</td>\n",
       "    </tr>\n",
       "    <tr>\n",
       "      <th>1</th>\n",
       "      <td>Sun, Oct 12</td>\n",
       "      <td>9288</td>\n",
       "      <td>785</td>\n",
       "      <td>116.0</td>\n",
       "      <td>91.0</td>\n",
       "    </tr>\n",
       "    <tr>\n",
       "      <th>2</th>\n",
       "      <td>Mon, Oct 13</td>\n",
       "      <td>10480</td>\n",
       "      <td>884</td>\n",
       "      <td>145.0</td>\n",
       "      <td>79.0</td>\n",
       "    </tr>\n",
       "    <tr>\n",
       "      <th>3</th>\n",
       "      <td>Tue, Oct 14</td>\n",
       "      <td>9867</td>\n",
       "      <td>827</td>\n",
       "      <td>138.0</td>\n",
       "      <td>92.0</td>\n",
       "    </tr>\n",
       "    <tr>\n",
       "      <th>4</th>\n",
       "      <td>Wed, Oct 15</td>\n",
       "      <td>9793</td>\n",
       "      <td>832</td>\n",
       "      <td>140.0</td>\n",
       "      <td>94.0</td>\n",
       "    </tr>\n",
       "    <tr>\n",
       "      <th>5</th>\n",
       "      <td>Thu, Oct 16</td>\n",
       "      <td>9500</td>\n",
       "      <td>788</td>\n",
       "      <td>129.0</td>\n",
       "      <td>61.0</td>\n",
       "    </tr>\n",
       "    <tr>\n",
       "      <th>6</th>\n",
       "      <td>Fri, Oct 17</td>\n",
       "      <td>9088</td>\n",
       "      <td>780</td>\n",
       "      <td>127.0</td>\n",
       "      <td>44.0</td>\n",
       "    </tr>\n",
       "    <tr>\n",
       "      <th>7</th>\n",
       "      <td>Sat, Oct 18</td>\n",
       "      <td>7664</td>\n",
       "      <td>652</td>\n",
       "      <td>94.0</td>\n",
       "      <td>62.0</td>\n",
       "    </tr>\n",
       "    <tr>\n",
       "      <th>8</th>\n",
       "      <td>Sun, Oct 19</td>\n",
       "      <td>8434</td>\n",
       "      <td>697</td>\n",
       "      <td>120.0</td>\n",
       "      <td>77.0</td>\n",
       "    </tr>\n",
       "    <tr>\n",
       "      <th>9</th>\n",
       "      <td>Mon, Oct 20</td>\n",
       "      <td>10496</td>\n",
       "      <td>860</td>\n",
       "      <td>153.0</td>\n",
       "      <td>98.0</td>\n",
       "    </tr>\n",
       "  </tbody>\n",
       "</table>\n",
       "</div>"
      ],
      "text/plain": [
       "          Date  Pageviews  Clicks  Enrollments  Payments\n",
       "0  Sat, Oct 11       7716     686        105.0      34.0\n",
       "1  Sun, Oct 12       9288     785        116.0      91.0\n",
       "2  Mon, Oct 13      10480     884        145.0      79.0\n",
       "3  Tue, Oct 14       9867     827        138.0      92.0\n",
       "4  Wed, Oct 15       9793     832        140.0      94.0\n",
       "5  Thu, Oct 16       9500     788        129.0      61.0\n",
       "6  Fri, Oct 17       9088     780        127.0      44.0\n",
       "7  Sat, Oct 18       7664     652         94.0      62.0\n",
       "8  Sun, Oct 19       8434     697        120.0      77.0\n",
       "9  Mon, Oct 20      10496     860        153.0      98.0"
      ]
     },
     "execution_count": 4,
     "metadata": {},
     "output_type": "execute_result"
    }
   ],
   "source": [
    "exp_data.head(10)"
   ]
  },
  {
   "cell_type": "code",
   "execution_count": 5,
   "metadata": {},
   "outputs": [
    {
     "data": {
      "text/html": [
       "<div>\n",
       "<style scoped>\n",
       "    .dataframe tbody tr th:only-of-type {\n",
       "        vertical-align: middle;\n",
       "    }\n",
       "\n",
       "    .dataframe tbody tr th {\n",
       "        vertical-align: top;\n",
       "    }\n",
       "\n",
       "    .dataframe thead th {\n",
       "        text-align: right;\n",
       "    }\n",
       "</style>\n",
       "<table border=\"1\" class=\"dataframe\">\n",
       "  <thead>\n",
       "    <tr style=\"text-align: right;\">\n",
       "      <th></th>\n",
       "      <th>Date</th>\n",
       "      <th>Pageviews</th>\n",
       "      <th>Clicks</th>\n",
       "      <th>Enrollments</th>\n",
       "      <th>Payments</th>\n",
       "    </tr>\n",
       "  </thead>\n",
       "  <tbody>\n",
       "    <tr>\n",
       "      <th>0</th>\n",
       "      <td>Sat, Oct 11</td>\n",
       "      <td>7723</td>\n",
       "      <td>687</td>\n",
       "      <td>134.0</td>\n",
       "      <td>70.0</td>\n",
       "    </tr>\n",
       "    <tr>\n",
       "      <th>1</th>\n",
       "      <td>Sun, Oct 12</td>\n",
       "      <td>9102</td>\n",
       "      <td>779</td>\n",
       "      <td>147.0</td>\n",
       "      <td>70.0</td>\n",
       "    </tr>\n",
       "    <tr>\n",
       "      <th>2</th>\n",
       "      <td>Mon, Oct 13</td>\n",
       "      <td>10511</td>\n",
       "      <td>909</td>\n",
       "      <td>167.0</td>\n",
       "      <td>95.0</td>\n",
       "    </tr>\n",
       "    <tr>\n",
       "      <th>3</th>\n",
       "      <td>Tue, Oct 14</td>\n",
       "      <td>9871</td>\n",
       "      <td>836</td>\n",
       "      <td>156.0</td>\n",
       "      <td>105.0</td>\n",
       "    </tr>\n",
       "    <tr>\n",
       "      <th>4</th>\n",
       "      <td>Wed, Oct 15</td>\n",
       "      <td>10014</td>\n",
       "      <td>837</td>\n",
       "      <td>163.0</td>\n",
       "      <td>64.0</td>\n",
       "    </tr>\n",
       "    <tr>\n",
       "      <th>5</th>\n",
       "      <td>Thu, Oct 16</td>\n",
       "      <td>9670</td>\n",
       "      <td>823</td>\n",
       "      <td>138.0</td>\n",
       "      <td>82.0</td>\n",
       "    </tr>\n",
       "    <tr>\n",
       "      <th>6</th>\n",
       "      <td>Fri, Oct 17</td>\n",
       "      <td>9008</td>\n",
       "      <td>748</td>\n",
       "      <td>146.0</td>\n",
       "      <td>76.0</td>\n",
       "    </tr>\n",
       "    <tr>\n",
       "      <th>7</th>\n",
       "      <td>Sat, Oct 18</td>\n",
       "      <td>7434</td>\n",
       "      <td>632</td>\n",
       "      <td>110.0</td>\n",
       "      <td>70.0</td>\n",
       "    </tr>\n",
       "    <tr>\n",
       "      <th>8</th>\n",
       "      <td>Sun, Oct 19</td>\n",
       "      <td>8459</td>\n",
       "      <td>691</td>\n",
       "      <td>131.0</td>\n",
       "      <td>60.0</td>\n",
       "    </tr>\n",
       "    <tr>\n",
       "      <th>9</th>\n",
       "      <td>Mon, Oct 20</td>\n",
       "      <td>10667</td>\n",
       "      <td>861</td>\n",
       "      <td>165.0</td>\n",
       "      <td>97.0</td>\n",
       "    </tr>\n",
       "  </tbody>\n",
       "</table>\n",
       "</div>"
      ],
      "text/plain": [
       "          Date  Pageviews  Clicks  Enrollments  Payments\n",
       "0  Sat, Oct 11       7723     687        134.0      70.0\n",
       "1  Sun, Oct 12       9102     779        147.0      70.0\n",
       "2  Mon, Oct 13      10511     909        167.0      95.0\n",
       "3  Tue, Oct 14       9871     836        156.0     105.0\n",
       "4  Wed, Oct 15      10014     837        163.0      64.0\n",
       "5  Thu, Oct 16       9670     823        138.0      82.0\n",
       "6  Fri, Oct 17       9008     748        146.0      76.0\n",
       "7  Sat, Oct 18       7434     632        110.0      70.0\n",
       "8  Sun, Oct 19       8459     691        131.0      60.0\n",
       "9  Mon, Oct 20      10667     861        165.0      97.0"
      ]
     },
     "execution_count": 5,
     "metadata": {},
     "output_type": "execute_result"
    }
   ],
   "source": [
    "cont_data.head(10)"
   ]
  },
  {
   "cell_type": "code",
   "execution_count": 6,
   "metadata": {},
   "outputs": [
    {
     "name": "stdout",
     "output_type": "stream",
     "text": [
      "<class 'pandas.core.frame.DataFrame'>\n",
      "RangeIndex: 37 entries, 0 to 36\n",
      "Data columns (total 5 columns):\n",
      "Date           37 non-null object\n",
      "Pageviews      37 non-null int64\n",
      "Clicks         37 non-null int64\n",
      "Enrollments    23 non-null float64\n",
      "Payments       23 non-null float64\n",
      "dtypes: float64(2), int64(2), object(1)\n",
      "memory usage: 1.5+ KB\n"
     ]
    }
   ],
   "source": [
    "exp_data.info()"
   ]
  },
  {
   "cell_type": "code",
   "execution_count": 7,
   "metadata": {},
   "outputs": [
    {
     "name": "stdout",
     "output_type": "stream",
     "text": [
      "<class 'pandas.core.frame.DataFrame'>\n",
      "RangeIndex: 37 entries, 0 to 36\n",
      "Data columns (total 5 columns):\n",
      "Date           37 non-null object\n",
      "Pageviews      37 non-null int64\n",
      "Clicks         37 non-null int64\n",
      "Enrollments    23 non-null float64\n",
      "Payments       23 non-null float64\n",
      "dtypes: float64(2), int64(2), object(1)\n",
      "memory usage: 1.5+ KB\n"
     ]
    }
   ],
   "source": [
    "cont_data.info()"
   ]
  },
  {
   "cell_type": "markdown",
   "metadata": {},
   "source": [
    "## 2.1 Checking invariant metrics"
   ]
  },
  {
   "cell_type": "code",
   "execution_count": 8,
   "metadata": {},
   "outputs": [
    {
     "name": "stdout",
     "output_type": "stream",
     "text": [
      "Number of page views for test group: 344660\n",
      "Number of page views for control group: 345543\n"
     ]
    },
    {
     "data": {
      "text/plain": [
       "Ttest_indResult(statistic=-0.1417118298287496, pvalue=0.8877034068650902)"
      ]
     },
     "execution_count": 8,
     "metadata": {},
     "output_type": "execute_result"
    }
   ],
   "source": [
    "# Comparing the number of page views\n",
    "print('Number of page views for test group:', exp_data.Pageviews.sum())\n",
    "print('Number of page views for control group:', cont_data.Pageviews.sum())\n",
    "\n",
    "\n",
    "# Are the test and control groups significantly different?\n",
    "stats.ttest_ind(exp_data.Pageviews,\n",
    "                cont_data.Pageviews)"
   ]
  },
  {
   "cell_type": "code",
   "execution_count": 9,
   "metadata": {},
   "outputs": [
    {
     "name": "stdout",
     "output_type": "stream",
     "text": [
      "Number of clicks for test group: 28325\n",
      "Number of page views for control group: 28378\n"
     ]
    },
    {
     "data": {
      "text/plain": [
       "Ttest_indResult(statistic=-0.09270642968639531, pvalue=0.9263942642482704)"
      ]
     },
     "execution_count": 9,
     "metadata": {},
     "output_type": "execute_result"
    }
   ],
   "source": [
    "# Comparing the number of clicks\n",
    "\n",
    "print('Number of clicks for test group:', exp_data.Clicks.sum())\n",
    "print('Number of page views for control group:', cont_data.Clicks.sum())\n",
    "\n",
    "\n",
    "# Are the test and control groups significantly different?\n",
    "stats.ttest_ind(exp_data.Clicks,\n",
    "                cont_data.Clicks)\n"
   ]
  },
  {
   "cell_type": "markdown",
   "metadata": {},
   "source": [
    "#### So the groups are not significantly different"
   ]
  },
  {
   "cell_type": "markdown",
   "metadata": {},
   "source": [
    "## 2.2 Checking evaluation metrics"
   ]
  },
  {
   "cell_type": "code",
   "execution_count": 10,
   "metadata": {},
   "outputs": [],
   "source": [
    "#drop duplicate rows\n",
    "df_cont = cont_data.drop_duplicates()\n",
    "df_exp =exp_data.drop_duplicates()"
   ]
  },
  {
   "cell_type": "code",
   "execution_count": 11,
   "metadata": {},
   "outputs": [
    {
     "data": {
      "text/plain": [
       "Date            0\n",
       "Pageviews       0\n",
       "Clicks          0\n",
       "Enrollments    14\n",
       "Payments       14\n",
       "dtype: int64"
      ]
     },
     "execution_count": 11,
     "metadata": {},
     "output_type": "execute_result"
    }
   ],
   "source": [
    "df_cont.isnull().sum()"
   ]
  },
  {
   "cell_type": "code",
   "execution_count": 12,
   "metadata": {},
   "outputs": [
    {
     "data": {
      "text/plain": [
       "Date            0\n",
       "Pageviews       0\n",
       "Clicks          0\n",
       "Enrollments    14\n",
       "Payments       14\n",
       "dtype: int64"
      ]
     },
     "execution_count": 12,
     "metadata": {},
     "output_type": "execute_result"
    }
   ],
   "source": [
    "df_exp.isnull().sum()"
   ]
  },
  {
   "cell_type": "code",
   "execution_count": 13,
   "metadata": {},
   "outputs": [],
   "source": [
    "df_cont=df_cont.dropna()\n",
    "df_exp=df_exp.dropna()"
   ]
  },
  {
   "cell_type": "code",
   "execution_count": 14,
   "metadata": {},
   "outputs": [
    {
     "data": {
      "text/html": [
       "<div>\n",
       "<style scoped>\n",
       "    .dataframe tbody tr th:only-of-type {\n",
       "        vertical-align: middle;\n",
       "    }\n",
       "\n",
       "    .dataframe tbody tr th {\n",
       "        vertical-align: top;\n",
       "    }\n",
       "\n",
       "    .dataframe thead th {\n",
       "        text-align: right;\n",
       "    }\n",
       "</style>\n",
       "<table border=\"1\" class=\"dataframe\">\n",
       "  <thead>\n",
       "    <tr style=\"text-align: right;\">\n",
       "      <th></th>\n",
       "      <th>Pageviews</th>\n",
       "      <th>Clicks</th>\n",
       "      <th>Enrollments</th>\n",
       "      <th>Payments</th>\n",
       "    </tr>\n",
       "  </thead>\n",
       "  <tbody>\n",
       "    <tr>\n",
       "      <th>count</th>\n",
       "      <td>23.000000</td>\n",
       "      <td>23.000000</td>\n",
       "      <td>23.000000</td>\n",
       "      <td>23.000000</td>\n",
       "    </tr>\n",
       "    <tr>\n",
       "      <th>mean</th>\n",
       "      <td>9224.478261</td>\n",
       "      <td>751.869565</td>\n",
       "      <td>164.565217</td>\n",
       "      <td>88.391304</td>\n",
       "    </tr>\n",
       "    <tr>\n",
       "      <th>std</th>\n",
       "      <td>850.295931</td>\n",
       "      <td>77.008444</td>\n",
       "      <td>29.977000</td>\n",
       "      <td>20.650202</td>\n",
       "    </tr>\n",
       "    <tr>\n",
       "      <th>min</th>\n",
       "      <td>7434.000000</td>\n",
       "      <td>632.000000</td>\n",
       "      <td>110.000000</td>\n",
       "      <td>56.000000</td>\n",
       "    </tr>\n",
       "    <tr>\n",
       "      <th>25%</th>\n",
       "      <td>8761.500000</td>\n",
       "      <td>691.000000</td>\n",
       "      <td>146.500000</td>\n",
       "      <td>70.000000</td>\n",
       "    </tr>\n",
       "    <tr>\n",
       "      <th>50%</th>\n",
       "      <td>9327.000000</td>\n",
       "      <td>736.000000</td>\n",
       "      <td>162.000000</td>\n",
       "      <td>91.000000</td>\n",
       "    </tr>\n",
       "    <tr>\n",
       "      <th>75%</th>\n",
       "      <td>9770.500000</td>\n",
       "      <td>829.500000</td>\n",
       "      <td>175.000000</td>\n",
       "      <td>102.500000</td>\n",
       "    </tr>\n",
       "    <tr>\n",
       "      <th>max</th>\n",
       "      <td>10667.000000</td>\n",
       "      <td>909.000000</td>\n",
       "      <td>233.000000</td>\n",
       "      <td>128.000000</td>\n",
       "    </tr>\n",
       "  </tbody>\n",
       "</table>\n",
       "</div>"
      ],
      "text/plain": [
       "          Pageviews      Clicks  Enrollments    Payments\n",
       "count     23.000000   23.000000    23.000000   23.000000\n",
       "mean    9224.478261  751.869565   164.565217   88.391304\n",
       "std      850.295931   77.008444    29.977000   20.650202\n",
       "min     7434.000000  632.000000   110.000000   56.000000\n",
       "25%     8761.500000  691.000000   146.500000   70.000000\n",
       "50%     9327.000000  736.000000   162.000000   91.000000\n",
       "75%     9770.500000  829.500000   175.000000  102.500000\n",
       "max    10667.000000  909.000000   233.000000  128.000000"
      ]
     },
     "execution_count": 14,
     "metadata": {},
     "output_type": "execute_result"
    }
   ],
   "source": [
    "df_cont.describe()"
   ]
  },
  {
   "cell_type": "code",
   "execution_count": 15,
   "metadata": {},
   "outputs": [
    {
     "data": {
      "text/html": [
       "<div>\n",
       "<style scoped>\n",
       "    .dataframe tbody tr th:only-of-type {\n",
       "        vertical-align: middle;\n",
       "    }\n",
       "\n",
       "    .dataframe tbody tr th {\n",
       "        vertical-align: top;\n",
       "    }\n",
       "\n",
       "    .dataframe thead th {\n",
       "        text-align: right;\n",
       "    }\n",
       "</style>\n",
       "<table border=\"1\" class=\"dataframe\">\n",
       "  <thead>\n",
       "    <tr style=\"text-align: right;\">\n",
       "      <th></th>\n",
       "      <th>Pageviews</th>\n",
       "      <th>Clicks</th>\n",
       "      <th>Enrollments</th>\n",
       "      <th>Payments</th>\n",
       "    </tr>\n",
       "  </thead>\n",
       "  <tbody>\n",
       "    <tr>\n",
       "      <th>count</th>\n",
       "      <td>23.000000</td>\n",
       "      <td>23.000000</td>\n",
       "      <td>23.000000</td>\n",
       "      <td>23.000000</td>\n",
       "    </tr>\n",
       "    <tr>\n",
       "      <th>mean</th>\n",
       "      <td>9189.652174</td>\n",
       "      <td>750.434783</td>\n",
       "      <td>148.826087</td>\n",
       "      <td>84.565217</td>\n",
       "    </tr>\n",
       "    <tr>\n",
       "      <th>std</th>\n",
       "      <td>802.029619</td>\n",
       "      <td>70.323167</td>\n",
       "      <td>33.234227</td>\n",
       "      <td>23.060841</td>\n",
       "    </tr>\n",
       "    <tr>\n",
       "      <th>min</th>\n",
       "      <td>7664.000000</td>\n",
       "      <td>642.000000</td>\n",
       "      <td>94.000000</td>\n",
       "      <td>34.000000</td>\n",
       "    </tr>\n",
       "    <tr>\n",
       "      <th>25%</th>\n",
       "      <td>8692.000000</td>\n",
       "      <td>696.000000</td>\n",
       "      <td>127.000000</td>\n",
       "      <td>69.000000</td>\n",
       "    </tr>\n",
       "    <tr>\n",
       "      <th>50%</th>\n",
       "      <td>9288.000000</td>\n",
       "      <td>728.000000</td>\n",
       "      <td>142.000000</td>\n",
       "      <td>91.000000</td>\n",
       "    </tr>\n",
       "    <tr>\n",
       "      <th>75%</th>\n",
       "      <td>9696.000000</td>\n",
       "      <td>794.500000</td>\n",
       "      <td>172.000000</td>\n",
       "      <td>99.000000</td>\n",
       "    </tr>\n",
       "    <tr>\n",
       "      <th>max</th>\n",
       "      <td>10551.000000</td>\n",
       "      <td>884.000000</td>\n",
       "      <td>213.000000</td>\n",
       "      <td>123.000000</td>\n",
       "    </tr>\n",
       "  </tbody>\n",
       "</table>\n",
       "</div>"
      ],
      "text/plain": [
       "          Pageviews      Clicks  Enrollments    Payments\n",
       "count     23.000000   23.000000    23.000000   23.000000\n",
       "mean    9189.652174  750.434783   148.826087   84.565217\n",
       "std      802.029619   70.323167    33.234227   23.060841\n",
       "min     7664.000000  642.000000    94.000000   34.000000\n",
       "25%     8692.000000  696.000000   127.000000   69.000000\n",
       "50%     9288.000000  728.000000   142.000000   91.000000\n",
       "75%     9696.000000  794.500000   172.000000   99.000000\n",
       "max    10551.000000  884.000000   213.000000  123.000000"
      ]
     },
     "execution_count": 15,
     "metadata": {},
     "output_type": "execute_result"
    }
   ],
   "source": [
    "df_exp.describe()"
   ]
  },
  {
   "cell_type": "code",
   "execution_count": 16,
   "metadata": {},
   "outputs": [],
   "source": [
    "df = pd.merge(df_cont, df_exp, on='Date')"
   ]
  },
  {
   "cell_type": "code",
   "execution_count": 17,
   "metadata": {},
   "outputs": [
    {
     "name": "stdout",
     "output_type": "stream",
     "text": [
      "<class 'pandas.core.frame.DataFrame'>\n",
      "Int64Index: 23 entries, 0 to 22\n",
      "Data columns (total 9 columns):\n",
      "Date             23 non-null object\n",
      "Pageviews_x      23 non-null int64\n",
      "Clicks_x         23 non-null int64\n",
      "Enrollments_x    23 non-null float64\n",
      "Payments_x       23 non-null float64\n",
      "Pageviews_y      23 non-null int64\n",
      "Clicks_y         23 non-null int64\n",
      "Enrollments_y    23 non-null float64\n",
      "Payments_y       23 non-null float64\n",
      "dtypes: float64(4), int64(4), object(1)\n",
      "memory usage: 1.8+ KB\n"
     ]
    }
   ],
   "source": [
    "df.info()"
   ]
  },
  {
   "cell_type": "code",
   "execution_count": 18,
   "metadata": {},
   "outputs": [],
   "source": [
    "df['day_of_week']= df['Date'].apply(lambda Date: Date.split(',')[0])"
   ]
  },
  {
   "cell_type": "code",
   "execution_count": 19,
   "metadata": {},
   "outputs": [],
   "source": [
    "df['date']=df['Date'].apply(lambda Date: Date.split(',')[1])"
   ]
  },
  {
   "cell_type": "code",
   "execution_count": 20,
   "metadata": {},
   "outputs": [],
   "source": [
    "df['date'] = df['date'].str.strip()"
   ]
  },
  {
   "cell_type": "code",
   "execution_count": 21,
   "metadata": {},
   "outputs": [],
   "source": [
    "df['date']= df['date'].apply(lambda date: date + ' 2017')"
   ]
  },
  {
   "cell_type": "code",
   "execution_count": 22,
   "metadata": {},
   "outputs": [],
   "source": [
    "df['date'] =  pd.to_datetime(df['date'])"
   ]
  },
  {
   "cell_type": "code",
   "execution_count": 23,
   "metadata": {},
   "outputs": [
    {
     "data": {
      "text/html": [
       "<div>\n",
       "<style scoped>\n",
       "    .dataframe tbody tr th:only-of-type {\n",
       "        vertical-align: middle;\n",
       "    }\n",
       "\n",
       "    .dataframe tbody tr th {\n",
       "        vertical-align: top;\n",
       "    }\n",
       "\n",
       "    .dataframe thead th {\n",
       "        text-align: right;\n",
       "    }\n",
       "</style>\n",
       "<table border=\"1\" class=\"dataframe\">\n",
       "  <thead>\n",
       "    <tr style=\"text-align: right;\">\n",
       "      <th></th>\n",
       "      <th>Date</th>\n",
       "      <th>Pageviews_x</th>\n",
       "      <th>Clicks_x</th>\n",
       "      <th>Enrollments_x</th>\n",
       "      <th>Payments_x</th>\n",
       "      <th>Pageviews_y</th>\n",
       "      <th>Clicks_y</th>\n",
       "      <th>Enrollments_y</th>\n",
       "      <th>Payments_y</th>\n",
       "      <th>day_of_week</th>\n",
       "      <th>date</th>\n",
       "    </tr>\n",
       "  </thead>\n",
       "  <tbody>\n",
       "    <tr>\n",
       "      <th>0</th>\n",
       "      <td>Sat, Oct 11</td>\n",
       "      <td>7723</td>\n",
       "      <td>687</td>\n",
       "      <td>134.0</td>\n",
       "      <td>70.0</td>\n",
       "      <td>7716</td>\n",
       "      <td>686</td>\n",
       "      <td>105.0</td>\n",
       "      <td>34.0</td>\n",
       "      <td>Sat</td>\n",
       "      <td>2017-10-11</td>\n",
       "    </tr>\n",
       "    <tr>\n",
       "      <th>1</th>\n",
       "      <td>Sun, Oct 12</td>\n",
       "      <td>9102</td>\n",
       "      <td>779</td>\n",
       "      <td>147.0</td>\n",
       "      <td>70.0</td>\n",
       "      <td>9288</td>\n",
       "      <td>785</td>\n",
       "      <td>116.0</td>\n",
       "      <td>91.0</td>\n",
       "      <td>Sun</td>\n",
       "      <td>2017-10-12</td>\n",
       "    </tr>\n",
       "    <tr>\n",
       "      <th>2</th>\n",
       "      <td>Mon, Oct 13</td>\n",
       "      <td>10511</td>\n",
       "      <td>909</td>\n",
       "      <td>167.0</td>\n",
       "      <td>95.0</td>\n",
       "      <td>10480</td>\n",
       "      <td>884</td>\n",
       "      <td>145.0</td>\n",
       "      <td>79.0</td>\n",
       "      <td>Mon</td>\n",
       "      <td>2017-10-13</td>\n",
       "    </tr>\n",
       "    <tr>\n",
       "      <th>3</th>\n",
       "      <td>Tue, Oct 14</td>\n",
       "      <td>9871</td>\n",
       "      <td>836</td>\n",
       "      <td>156.0</td>\n",
       "      <td>105.0</td>\n",
       "      <td>9867</td>\n",
       "      <td>827</td>\n",
       "      <td>138.0</td>\n",
       "      <td>92.0</td>\n",
       "      <td>Tue</td>\n",
       "      <td>2017-10-14</td>\n",
       "    </tr>\n",
       "    <tr>\n",
       "      <th>4</th>\n",
       "      <td>Wed, Oct 15</td>\n",
       "      <td>10014</td>\n",
       "      <td>837</td>\n",
       "      <td>163.0</td>\n",
       "      <td>64.0</td>\n",
       "      <td>9793</td>\n",
       "      <td>832</td>\n",
       "      <td>140.0</td>\n",
       "      <td>94.0</td>\n",
       "      <td>Wed</td>\n",
       "      <td>2017-10-15</td>\n",
       "    </tr>\n",
       "  </tbody>\n",
       "</table>\n",
       "</div>"
      ],
      "text/plain": [
       "          Date  Pageviews_x  Clicks_x  Enrollments_x  Payments_x  Pageviews_y  \\\n",
       "0  Sat, Oct 11         7723       687          134.0        70.0         7716   \n",
       "1  Sun, Oct 12         9102       779          147.0        70.0         9288   \n",
       "2  Mon, Oct 13        10511       909          167.0        95.0        10480   \n",
       "3  Tue, Oct 14         9871       836          156.0       105.0         9867   \n",
       "4  Wed, Oct 15        10014       837          163.0        64.0         9793   \n",
       "\n",
       "   Clicks_y  Enrollments_y  Payments_y day_of_week       date  \n",
       "0       686          105.0        34.0         Sat 2017-10-11  \n",
       "1       785          116.0        91.0         Sun 2017-10-12  \n",
       "2       884          145.0        79.0         Mon 2017-10-13  \n",
       "3       827          138.0        92.0         Tue 2017-10-14  \n",
       "4       832          140.0        94.0         Wed 2017-10-15  "
      ]
     },
     "execution_count": 23,
     "metadata": {},
     "output_type": "execute_result"
    }
   ],
   "source": [
    "df.head()"
   ]
  },
  {
   "cell_type": "markdown",
   "metadata": {},
   "source": [
    "## 2.2.2 Success and Secondary Metric"
   ]
  },
  {
   "cell_type": "code",
   "execution_count": 25,
   "metadata": {},
   "outputs": [],
   "source": [
    "df['Retention_cont']= df['Payments_x']/df['Enrollments_x']\n",
    "df['Retention_exp']= df['Payments_y']/df['Enrollments_y']"
   ]
  },
  {
   "cell_type": "code",
   "execution_count": 26,
   "metadata": {},
   "outputs": [
    {
     "data": {
      "text/html": [
       "<div>\n",
       "<style scoped>\n",
       "    .dataframe tbody tr th:only-of-type {\n",
       "        vertical-align: middle;\n",
       "    }\n",
       "\n",
       "    .dataframe tbody tr th {\n",
       "        vertical-align: top;\n",
       "    }\n",
       "\n",
       "    .dataframe thead th {\n",
       "        text-align: right;\n",
       "    }\n",
       "</style>\n",
       "<table border=\"1\" class=\"dataframe\">\n",
       "  <thead>\n",
       "    <tr style=\"text-align: right;\">\n",
       "      <th></th>\n",
       "      <th>Date</th>\n",
       "      <th>Pageviews_x</th>\n",
       "      <th>Clicks_x</th>\n",
       "      <th>Enrollments_x</th>\n",
       "      <th>Payments_x</th>\n",
       "      <th>Pageviews_y</th>\n",
       "      <th>Clicks_y</th>\n",
       "      <th>Enrollments_y</th>\n",
       "      <th>Payments_y</th>\n",
       "      <th>day_of_week</th>\n",
       "      <th>date</th>\n",
       "      <th>Retention_cont</th>\n",
       "      <th>Retention_exp</th>\n",
       "    </tr>\n",
       "  </thead>\n",
       "  <tbody>\n",
       "    <tr>\n",
       "      <th>0</th>\n",
       "      <td>Sat, Oct 11</td>\n",
       "      <td>7723</td>\n",
       "      <td>687</td>\n",
       "      <td>134.0</td>\n",
       "      <td>70.0</td>\n",
       "      <td>7716</td>\n",
       "      <td>686</td>\n",
       "      <td>105.0</td>\n",
       "      <td>34.0</td>\n",
       "      <td>Sat</td>\n",
       "      <td>2017-10-11</td>\n",
       "      <td>0.522388</td>\n",
       "      <td>0.323810</td>\n",
       "    </tr>\n",
       "    <tr>\n",
       "      <th>1</th>\n",
       "      <td>Sun, Oct 12</td>\n",
       "      <td>9102</td>\n",
       "      <td>779</td>\n",
       "      <td>147.0</td>\n",
       "      <td>70.0</td>\n",
       "      <td>9288</td>\n",
       "      <td>785</td>\n",
       "      <td>116.0</td>\n",
       "      <td>91.0</td>\n",
       "      <td>Sun</td>\n",
       "      <td>2017-10-12</td>\n",
       "      <td>0.476190</td>\n",
       "      <td>0.784483</td>\n",
       "    </tr>\n",
       "    <tr>\n",
       "      <th>2</th>\n",
       "      <td>Mon, Oct 13</td>\n",
       "      <td>10511</td>\n",
       "      <td>909</td>\n",
       "      <td>167.0</td>\n",
       "      <td>95.0</td>\n",
       "      <td>10480</td>\n",
       "      <td>884</td>\n",
       "      <td>145.0</td>\n",
       "      <td>79.0</td>\n",
       "      <td>Mon</td>\n",
       "      <td>2017-10-13</td>\n",
       "      <td>0.568862</td>\n",
       "      <td>0.544828</td>\n",
       "    </tr>\n",
       "    <tr>\n",
       "      <th>3</th>\n",
       "      <td>Tue, Oct 14</td>\n",
       "      <td>9871</td>\n",
       "      <td>836</td>\n",
       "      <td>156.0</td>\n",
       "      <td>105.0</td>\n",
       "      <td>9867</td>\n",
       "      <td>827</td>\n",
       "      <td>138.0</td>\n",
       "      <td>92.0</td>\n",
       "      <td>Tue</td>\n",
       "      <td>2017-10-14</td>\n",
       "      <td>0.673077</td>\n",
       "      <td>0.666667</td>\n",
       "    </tr>\n",
       "    <tr>\n",
       "      <th>4</th>\n",
       "      <td>Wed, Oct 15</td>\n",
       "      <td>10014</td>\n",
       "      <td>837</td>\n",
       "      <td>163.0</td>\n",
       "      <td>64.0</td>\n",
       "      <td>9793</td>\n",
       "      <td>832</td>\n",
       "      <td>140.0</td>\n",
       "      <td>94.0</td>\n",
       "      <td>Wed</td>\n",
       "      <td>2017-10-15</td>\n",
       "      <td>0.392638</td>\n",
       "      <td>0.671429</td>\n",
       "    </tr>\n",
       "  </tbody>\n",
       "</table>\n",
       "</div>"
      ],
      "text/plain": [
       "          Date  Pageviews_x  Clicks_x  Enrollments_x  Payments_x  Pageviews_y  \\\n",
       "0  Sat, Oct 11         7723       687          134.0        70.0         7716   \n",
       "1  Sun, Oct 12         9102       779          147.0        70.0         9288   \n",
       "2  Mon, Oct 13        10511       909          167.0        95.0        10480   \n",
       "3  Tue, Oct 14         9871       836          156.0       105.0         9867   \n",
       "4  Wed, Oct 15        10014       837          163.0        64.0         9793   \n",
       "\n",
       "   Clicks_y  Enrollments_y  Payments_y day_of_week       date  Retention_cont  \\\n",
       "0       686          105.0        34.0         Sat 2017-10-11        0.522388   \n",
       "1       785          116.0        91.0         Sun 2017-10-12        0.476190   \n",
       "2       884          145.0        79.0         Mon 2017-10-13        0.568862   \n",
       "3       827          138.0        92.0         Tue 2017-10-14        0.673077   \n",
       "4       832          140.0        94.0         Wed 2017-10-15        0.392638   \n",
       "\n",
       "   Retention_exp  \n",
       "0       0.323810  \n",
       "1       0.784483  \n",
       "2       0.544828  \n",
       "3       0.666667  \n",
       "4       0.671429  "
      ]
     },
     "execution_count": 26,
     "metadata": {},
     "output_type": "execute_result"
    }
   ],
   "source": [
    "df.head()"
   ]
  },
  {
   "cell_type": "code",
   "execution_count": 27,
   "metadata": {},
   "outputs": [
    {
     "name": "stdout",
     "output_type": "stream",
     "text": [
      "experiment retention rate: 0.5397972694238636\n",
      "control signup rate: 0.5731397768902483\n"
     ]
    },
    {
     "data": {
      "text/plain": [
       "Ttest_indResult(statistic=-1.0081408912731535, pvalue=0.3188989662061842)"
      ]
     },
     "execution_count": 27,
     "metadata": {},
     "output_type": "execute_result"
    }
   ],
   "source": [
    "# Cheching the success metric\n",
    "print('experiment retention rate:', df.Retention_cont.mean())\n",
    "print('control signup rate:', df.Retention_exp.mean())\n",
    "\n",
    "# Are the test and control groups significantly different?\n",
    "stats.ttest_ind(df.Retention_cont,\n",
    "                df.Retention_exp)"
   ]
  },
  {
   "cell_type": "markdown",
   "metadata": {},
   "source": [
    "#### So the groups are not significantly different."
   ]
  },
  {
   "cell_type": "code",
   "execution_count": 28,
   "metadata": {},
   "outputs": [
    {
     "name": "stdout",
     "output_type": "stream",
     "text": [
      "experiment number of enrooment: 3423.0\n",
      "control number of enrollment: 3785.0\n"
     ]
    },
    {
     "data": {
      "text/plain": [
       "Ttest_indResult(statistic=1.686512674290538, pvalue=0.09877614030153456)"
      ]
     },
     "execution_count": 28,
     "metadata": {},
     "output_type": "execute_result"
    }
   ],
   "source": [
    "# Cheching the secondary metric\n",
    "print('experiment number of enrooment:', df.Enrollments_y.sum())\n",
    "print('control number of enrollment:', df.Enrollments_x.sum())\n",
    "\n",
    "# Are the test and control groups significantly different?\n",
    "stats.ttest_ind(df.Enrollments_x,\n",
    "                df.Enrollments_y)"
   ]
  },
  {
   "cell_type": "markdown",
   "metadata": {},
   "source": [
    "#### The number of enrollments has not dropped significantly and consequenly the retention rate, hasn't changed significantly. "
   ]
  },
  {
   "cell_type": "code",
   "execution_count": 29,
   "metadata": {},
   "outputs": [
    {
     "data": {
      "image/png": "[encoded data removed]",
      "text/plain": [
       "<matplotlib.figure.Figure at 0x2967e474dd8>"
      ]
     },
     "metadata": {},
     "output_type": "display_data"
    }
   ],
   "source": [
    "fig = df[\n",
    "    ['date', 'Enrollments_y']].groupby('date').mean().plot()\n",
    "df[\n",
    "    ['date', 'Enrollments_x']].groupby('date').mean().plot(ax=fig)\n",
    "plt.legend(['experiment','control'])\n",
    "plt.title('Comparing number of enrollments by date')\n",
    "plt.show()\n"
   ]
  },
  {
   "cell_type": "code",
   "execution_count": 30,
   "metadata": {},
   "outputs": [
    {
     "data": {
      "image/png": "[encoded data removed]",
      "text/plain": [
       "<matplotlib.figure.Figure at 0x2967e56ccf8>"
      ]
     },
     "metadata": {},
     "output_type": "display_data"
    }
   ],
   "source": [
    "fig = df[\n",
    "    ['date', 'Retention_exp']].groupby('date').mean().plot()\n",
    "df[\n",
    "    ['date', 'Retention_cont']].groupby('date').mean().plot(ax=fig)\n",
    "plt.legend(['experiment','control'])\n",
    "plt.title('Comparing Retention Rates by date')\n",
    "plt.show()\n"
   ]
  },
  {
   "cell_type": "markdown",
   "metadata": {},
   "source": [
    "# 3. Conclusion and Recommendation"
   ]
  },
  {
   "cell_type": "markdown",
   "metadata": {},
   "source": [
    "The A/B test was designed to examine whether informing the potential student(website visitors) in advance about the amount of time they need to spend on the course, would increase the retention rate from free trial period to the paid version.\n",
    "The result showed that however the change decreases the number of enrollment in the free trail and increases the rate of retention, it is not statistically significant.\n",
    "\n",
    "This result could be affected by the duration of the study (23 days). It is recommended that the experiment would be exexuted for about 2 months.\n",
    "\n",
    "Also, the impact of outliers on the data needs to be considered. \n",
    "\n",
    "Number of user_ids which is the number of those who enrolled for the free trial per day is defined as the secondary evaluation metric. However, the number of visitors fluctuates slighty for each day. Therefore, considering the rate of user_ids over the number of page views per day may define a better secondary metric. "
   ]
  },
  {
   "cell_type": "code",
   "execution_count": null,
   "metadata": {},
   "outputs": [],
   "source": []
  }
 ],
 "metadata": {
  "kernelspec": {
   "display_name": "Python 3",
   "language": "python",
   "name": "python3"
  },
  "language_info": {
   "codemirror_mode": {
    "name": "ipython",
    "version": 3
   },
   "file_extension": ".py",
   "mimetype": "text/x-python",
   "name": "python",
   "nbconvert_exporter": "python",
   "pygments_lexer": "ipython3",
   "version": "3.6.4"
  }
 },
 "nbformat": 4,
 "nbformat_minor": 2
}
