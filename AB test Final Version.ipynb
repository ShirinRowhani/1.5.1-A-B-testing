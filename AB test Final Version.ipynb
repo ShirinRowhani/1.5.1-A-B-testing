{
 "cells": [
  {
   "cell_type": "markdown",
   "metadata": {},
   "source": [
    "# Experiment Design "
   ]
  },
  {
   "cell_type": "markdown",
   "metadata": {},
   "source": [
    "## Setting the Stage\n",
    "\n",
    "The Institute for Professional Education (IPE),provides specialization courses for its undergraduate and master degree graduates. IPE courses have two options on the course overview page: \"Start Free Trial\", and \"Audit the Course\".\n",
    "\n",
    "If the students click \"Start Free Trial\", they needs to provide their credit card information. Doing so the students will be enrolled in a free trial for the paid version of the course for 2 weeks. After the trial period, if they do not cancel the registration, they will be charged.\n",
    "\n",
    "If the students click \"Audit the Course\", they get access to all the course materials for free. However, they will  not receive one-on-one support from a mentor, feedback on projects and a verified certificate.\n",
    "\n",
    "\n",
    "In the experiment, we are testing a change where if the students click \"Start Free Trial\", they are asked for how many hours a week they can commit to the couse. If the students indicated 5 or more hours per week, they would be taken through the checkout process as usual. If they indicated less than 5 hours per week, a message would appear expressing that to be successful in professional courses and getting much value from the paid version of the course, they need to commit more hours per week to the course. Therefore, IPE suggests the students to audit the course for free. At this point, the students can choose to continue with the free trial, or audit the course for free instead.\n",
    "\n",
    "The data is provided by Google and Udacity as part of a collaboration course on A/B testing.\n"
   ]
  },
  {
   "cell_type": "markdown",
   "metadata": {},
   "source": [
    "## The problem"
   ]
  },
  {
   "cell_type": "markdown",
   "metadata": {},
   "source": [
    "How could we decrease the dropout rate during the free trial?\n",
    "\n",
    "Leaving the course during the free trail creates inefficiency in resource management as the personal tutoring time allocated to them is wasted. In free trial exit survey , students mentioned \"frustration due to lack of time\" as the major reason of dropout."
   ]
  },
  {
   "cell_type": "markdown",
   "metadata": {},
   "source": [
    "## The potential solution"
   ]
  },
  {
   "cell_type": "markdown",
   "metadata": {},
   "source": [
    "Informing students about the amount of time they need to complete the course successfully before enrolling in free trail, set clearer expectations for students upfront, thus reducing the number of frustrated students who leave the free trial because they didn't have enough time—without significantly reducing the number of students to continue past the free trial and pay for the course. "
   ]
  },
  {
   "cell_type": "markdown",
   "metadata": {},
   "source": [
    "## The method of testing the solution"
   ]
  },
  {
   "cell_type": "markdown",
   "metadata": {},
   "source": [
    "Add a screener that informs the students about the amount of time they need to complete the course, on half of the free trial enrollment pages and monitor dropouts for the next two months. The variable of interest is the number of dropouts in screener and non-screener groups. This is an A/B manipulation where screener is added or not added.\n",
    "\n",
    "### Invariant metrics:\n",
    "\n",
    "Click-through-probability: That is, number of unique cookies to click the \"Start free trial\" button divided by number of unique cookies to view the course overview page. (dmin=0.01)\n",
    "\n",
    "This is an invariant metric to check if the rate of coockies in both groups that click the \"Start Free Trail\" botton devided by number of cookies to view the course overview page is not significantly different.\n",
    "\n",
    "###  Evaluation metrics:\n",
    "\n",
    "\n",
    "To compare the two groups in our experiment in terms of the outcome:\n",
    "\n",
    "Does the change result in less dropouts during the free trial?\n",
    "\n",
    "\n",
    "#### Success metric:\n",
    "\n",
    "Net conversion: That is, number of user-ids to remain enrolled past the 14-day boundary (and thus make at least one payment) divided by the number of unique cookies to click the \"Start free trial\" button. (dmin= 0.0075)\n",
    "\n",
    "\n",
    "#### Secondary metric:\n",
    "\n",
    "Gross conversion: That is, number of user-ids to complete checkout and enroll in the free trial divided by number of unique cookies to click the \"Start free trial\" button. (dmin= 0.01)\n",
    "\n",
    "\n",
    "#### The baseline values for the metrics are presented below:\n",
    "\n",
    "We computed the net conversion rate for two months before the study. We will compare it to the net conversion rate in screener and non-screener groups for two months during the study.\n",
    "\n",
    "● Unique cookies to view course overview page per day: 40000\n",
    "\n",
    "● Unique cookies to click \"Start free trial\" per day: 3200\n",
    "\n",
    "● Enrollments per day: 660\n",
    "\n",
    "● Click-through-probability on \"Start free trial\": 0.08\n",
    "\n",
    "● Probability of enrolling, given click: 0.20625\n",
    "\n",
    "● Probability of payment, given enroll: 0.53\n",
    "\n",
    "● Probability of payment, given click: 0.1093125\n",
    "\n",
    "If net conversion rate in the next two months doesn't move among screener group (using net conversion estimates from the past year), we conclude that screening is effective and add the screener on all free trial enrollment pages. If the net conversion rate in the next two months moves among the group with screener, but by less than one standard deviation, observe for two more months before deciding. If the net conversion rate moves in two months, remove the screener."
   ]
  },
  {
   "cell_type": "markdown",
   "metadata": {},
   "source": [
    "## Rollout Plan\n",
    "\n",
    "A gradual rollout will be used to ensure that there are no negative consequences of the experiment. In addition, if things are broken or degraded it can be rolled back quickly. In this case we'll do one weeks at 10% and then 6 weeks at 50%. \n",
    "\n",
    "### Sample Size and the Power of the Test"
   ]
  },
  {
   "cell_type": "markdown",
   "metadata": {},
   "source": [
    "Before performing hypothesis testing, we need to gaurd against the Type I (False Positive) that is the rejection of a true null hypothesis and Type II error (False negative) that is failing to reject a false null hypothesis. We set the size of Type I error to 0.05. In this study, with 2 tests and α = 0.05, we would only reject a null hypothesis if the p-value is less\n",
    "than 0.025. The Bonferroni correction tends to be a bit too conservative. In this case, the probability of observing at least one significant result when using the correction just described is: \n",
    "\n",
    "P(at least one significant result) = 1 − P(no significant results)\n",
    "= 1 − (1 − 0.025)2\n",
    "≈ 0.049375\n",
    "\n",
    "Here, we are just a shade under our desired 0.05 level. The Bonferroni correction assumes that all tests are independent of each other. In our study, that is not completely the case. In this study, we ignore the small correction and set alpha as 0.05. \n",
    "\n",
    "In case,  the null hypothesis cannot be rejected, there are two possible cases: 1) one can accept the null hypothesis, 2) the sample size is not large enough to either accept or reject the null hypothesis. To make the distinction, β should be small. We want both α and β to decrease, therefore we have to increase the sample size.\n",
    "\n",
    "We use an alpha of 0.05 and a beta of 0.2.  \n"
   ]
  },
  {
   "cell_type": "markdown",
   "metadata": {},
   "source": [
    "#### Power of the test for success metric\n",
    "\n",
    "metric = # Payments/# Clicks\n",
    "\n",
    "We just want to look at those pageviewers who click 'Start Free Trail' button. The unit of our analysis is the number of coockies clicking the button. \n",
    "\n",
    "Test for One Proportion\n",
    "Testing p = 0.109313 \n",
    "α = 0.05\n",
    "\n",
    "##### Result\n",
    "        \n",
    "Comparison p: 0.0075\n",
    "\n",
    "Size: 23   \n",
    "\n",
    "Power: 0.076496\n",
    "\n",
    "or\n",
    "\n",
    "Size :46\n",
    "\n",
    "Power= 0.819950\n",
    "\n",
    "We need to have 46 rows (days) of data for each group to power the test. Therefore our sample size is not large enough to make any conclusion about the null hypothesis. "
   ]
  },
  {
   "attachments": {
    "image.png": {
     "image/png": "[encoded data removed]"
    }
   },
   "cell_type": "markdown",
   "metadata": {},
   "source": [
    "![image.png](attachment:image.png)"
   ]
  },
  {
   "cell_type": "markdown",
   "metadata": {},
   "source": [
    "#### Power of the test for secondary metric"
   ]
  },
  {
   "cell_type": "markdown",
   "metadata": {},
   "source": [
    "metric = # Enrollments/# Clicks\n",
    "\n",
    "We just want to look at those pageviewers who click 'Start Free Trail' button. The unit of our analysis is the number of coockies clicking the button. \n",
    "\n",
    "Test for One Proportion\n",
    "Testing p = 0.20625 \n",
    "α = 0.05\n",
    "\n",
    "##### Result\n",
    "        \n",
    "Comparison p: 0.01\n",
    "\n",
    "Size: 23   \n",
    "\n",
    "Power: 0.93\n",
    "\n",
    "\n",
    "Having 23 rows (days of data) provides enough power to the test. \n"
   ]
  },
  {
   "attachments": {
    "image.png": {
     "image/png": "[encoded data removed]"
    }
   },
   "cell_type": "markdown",
   "metadata": {},
   "source": [
    "![image.png](attachment:image.png)"
   ]
  },
  {
   "attachments": {
    "image.png": {
     "image/png": "[encoded data removed]"
    }
   },
   "cell_type": "markdown",
   "metadata": {},
   "source": [
    "#### Power of the test for invariant metric\n",
    "\n",
    "metric = # Clicks\n",
    "We just want to look at those pageviewers who click 'Start Free Trail' button. The unit of our analysis is the number of coockies clicking the button. \n",
    "One sample t-test  p = 0.20625 α = 0.05\n",
    "Result\n",
    "Comparison p: 0.01\n",
    "Size: 37 \n",
    "Power: 0.81\n",
    "Having 37 rows (days of data) provides enough power to the test. \n",
    "\n",
    "\n",
    "![image.png](attachment:image.png)"
   ]
  },
  {
   "cell_type": "markdown",
   "metadata": {},
   "source": [
    "### A/A Testing\n",
    "\n",
    "At this point we can do A/A testing. A/A testing is a class of A/B testing where we have a control A against another control A. Therefore, there is no change in what the users are seeing. That means any differences that are measured, may be due to underlying variability of the system such as the testing method, the random split method, the size of the sample or any other outside factors that can affect the outcome of a test.\n"
   ]
  },
  {
   "cell_type": "markdown",
   "metadata": {},
   "source": [
    "# Analyzing Results"
   ]
  },
  {
   "cell_type": "markdown",
   "metadata": {},
   "source": [
    "In the dataset used for this study, the meaning of each column is:\n",
    "\n",
    "● Pageviews: Number of unique cookies to view the course overview page that day.\n",
    "\n",
    "● Clicks: Number of unique cookies to click the course overview page that day.\n",
    "\n",
    "● Enrollments: Number of user-ids to enroll in the free trial that day.\n",
    "\n",
    "● Payments: Number of user-ids who who enrolled on that day to remain enrolled for 14 days and thus make a payment. (Note that the date for this column is the start date, that is, the date of enrollment, rather than the date of the payment. The payment happened 14 days later. Because of this, the enrollments and payments are tracked for 14 fewer days than the other columns.)\n"
   ]
  },
  {
   "cell_type": "code",
   "execution_count": 72,
   "metadata": {},
   "outputs": [],
   "source": [
    "%matplotlib inline\n",
    "import pandas as pd\n",
    "import numpy as np\n",
    "import seaborn as sns\n",
    "from matplotlib import pyplot as plt\n",
    "from scipy import stats"
   ]
  },
  {
   "cell_type": "code",
   "execution_count": 73,
   "metadata": {},
   "outputs": [],
   "source": [
    "cont_data= pd.read_csv('Final Project Results - Control.csv', parse_dates=True)\n",
    "exp_data = pd.read_csv('Final Project Results - Experiment.csv', parse_dates=True)"
   ]
  },
  {
   "cell_type": "code",
   "execution_count": 74,
   "metadata": {},
   "outputs": [
    {
     "name": "stdout",
     "output_type": "stream",
     "text": [
      "<class 'pandas.core.frame.DataFrame'>\n",
      "RangeIndex: 37 entries, 0 to 36\n",
      "Data columns (total 5 columns):\n",
      "Date           37 non-null object\n",
      "Pageviews      37 non-null int64\n",
      "Clicks         37 non-null int64\n",
      "Enrollments    23 non-null float64\n",
      "Payments       23 non-null float64\n",
      "dtypes: float64(2), int64(2), object(1)\n",
      "memory usage: 1.5+ KB\n"
     ]
    }
   ],
   "source": [
    "exp_data.info()"
   ]
  },
  {
   "cell_type": "code",
   "execution_count": 75,
   "metadata": {},
   "outputs": [
    {
     "name": "stdout",
     "output_type": "stream",
     "text": [
      "<class 'pandas.core.frame.DataFrame'>\n",
      "RangeIndex: 37 entries, 0 to 36\n",
      "Data columns (total 5 columns):\n",
      "Date           37 non-null object\n",
      "Pageviews      37 non-null int64\n",
      "Clicks         37 non-null int64\n",
      "Enrollments    23 non-null float64\n",
      "Payments       23 non-null float64\n",
      "dtypes: float64(2), int64(2), object(1)\n",
      "memory usage: 1.5+ KB\n"
     ]
    }
   ],
   "source": [
    "cont_data.info()"
   ]
  },
  {
   "cell_type": "markdown",
   "metadata": {},
   "source": [
    "## Checking Invariant Metrics"
   ]
  },
  {
   "cell_type": "markdown",
   "metadata": {},
   "source": [
    "Here, we check that the click-through-rate (CTR) for the control and test groups are not different significantly."
   ]
  },
  {
   "cell_type": "code",
   "execution_count": 76,
   "metadata": {},
   "outputs": [
    {
     "name": "stdout",
     "output_type": "stream",
     "text": [
      "CTR for test group: 0.08219052099356418\n",
      "CTR for control group: 0.0821292746965395\n"
     ]
    },
    {
     "data": {
      "text/plain": [
       "Ttest_indResult(statistic=0.08302608446561602, pvalue=0.9340611962072063)"
      ]
     },
     "execution_count": 76,
     "metadata": {},
     "output_type": "execute_result"
    }
   ],
   "source": [
    "exp_data['CTR']= exp_data['Clicks']/exp_data['Pageviews']\n",
    "cont_data['CTR']= cont_data['Clicks']/cont_data['Pageviews']\n",
    "\n",
    "print('CTR for test group:', exp_data.CTR.mean())\n",
    "print('CTR for control group:', cont_data.CTR.mean())\n",
    "\n",
    "stats.ttest_ind(exp_data.CTR,\n",
    "                cont_data.CTR)"
   ]
  },
  {
   "cell_type": "markdown",
   "metadata": {},
   "source": [
    "The p-valuse is greater than 0.05 therefore we cannot reject the null hypothesis that the CTR of the test and control groups are not significantly the same. As we have calculated the power of the test for sample size previousely, we can conclude that we can accept the null hypothesis and CTR is the same for both groups. Therefore, the invariant metric is checked. "
   ]
  },
  {
   "cell_type": "markdown",
   "metadata": {},
   "source": [
    "## Preparing Data for Analysis"
   ]
  },
  {
   "cell_type": "markdown",
   "metadata": {},
   "source": [
    "First we need to clean-up the data. "
   ]
  },
  {
   "cell_type": "code",
   "execution_count": 77,
   "metadata": {},
   "outputs": [],
   "source": [
    "df_cont = cont_data.drop_duplicates()\n",
    "df_exp =exp_data.drop_duplicates()"
   ]
  },
  {
   "cell_type": "code",
   "execution_count": 78,
   "metadata": {},
   "outputs": [
    {
     "data": {
      "text/plain": [
       "Date            0\n",
       "Pageviews       0\n",
       "Clicks          0\n",
       "Enrollments    14\n",
       "Payments       14\n",
       "CTR             0\n",
       "dtype: int64"
      ]
     },
     "execution_count": 78,
     "metadata": {},
     "output_type": "execute_result"
    }
   ],
   "source": [
    "df_cont.isnull().sum()"
   ]
  },
  {
   "cell_type": "code",
   "execution_count": 79,
   "metadata": {},
   "outputs": [
    {
     "data": {
      "text/plain": [
       "Date            0\n",
       "Pageviews       0\n",
       "Clicks          0\n",
       "Enrollments    14\n",
       "Payments       14\n",
       "CTR             0\n",
       "dtype: int64"
      ]
     },
     "execution_count": 79,
     "metadata": {},
     "output_type": "execute_result"
    }
   ],
   "source": [
    "df_exp.isnull().sum()"
   ]
  },
  {
   "cell_type": "markdown",
   "metadata": {},
   "source": [
    "We have 14 rows of data (14 days) for which the information regarding the number of enrollments and the number of payments havenot been logged in. The information is missing chronologically for the last 14 days of the study. As this information is used for our evaluation metrics directly, we don't impute the missing values and drop the rows. "
   ]
  },
  {
   "cell_type": "code",
   "execution_count": 80,
   "metadata": {},
   "outputs": [],
   "source": [
    "df_cont=df_cont.dropna()\n",
    "df_exp=df_exp.dropna()"
   ]
  },
  {
   "cell_type": "code",
   "execution_count": 81,
   "metadata": {},
   "outputs": [
    {
     "data": {
      "text/html": [
       "<div>\n",
       "<style scoped>\n",
       "    .dataframe tbody tr th:only-of-type {\n",
       "        vertical-align: middle;\n",
       "    }\n",
       "\n",
       "    .dataframe tbody tr th {\n",
       "        vertical-align: top;\n",
       "    }\n",
       "\n",
       "    .dataframe thead th {\n",
       "        text-align: right;\n",
       "    }\n",
       "</style>\n",
       "<table border=\"1\" class=\"dataframe\">\n",
       "  <thead>\n",
       "    <tr style=\"text-align: right;\">\n",
       "      <th></th>\n",
       "      <th>Pageviews</th>\n",
       "      <th>Clicks</th>\n",
       "      <th>Enrollments</th>\n",
       "      <th>Payments</th>\n",
       "      <th>CTR</th>\n",
       "    </tr>\n",
       "  </thead>\n",
       "  <tbody>\n",
       "    <tr>\n",
       "      <th>count</th>\n",
       "      <td>23.000000</td>\n",
       "      <td>23.000000</td>\n",
       "      <td>23.000000</td>\n",
       "      <td>23.000000</td>\n",
       "      <td>23.000000</td>\n",
       "    </tr>\n",
       "    <tr>\n",
       "      <th>mean</th>\n",
       "      <td>9224.478261</td>\n",
       "      <td>751.869565</td>\n",
       "      <td>164.565217</td>\n",
       "      <td>88.391304</td>\n",
       "      <td>0.081527</td>\n",
       "    </tr>\n",
       "    <tr>\n",
       "      <th>std</th>\n",
       "      <td>850.295931</td>\n",
       "      <td>77.008444</td>\n",
       "      <td>29.977000</td>\n",
       "      <td>20.650202</td>\n",
       "      <td>0.003702</td>\n",
       "    </tr>\n",
       "    <tr>\n",
       "      <th>min</th>\n",
       "      <td>7434.000000</td>\n",
       "      <td>632.000000</td>\n",
       "      <td>110.000000</td>\n",
       "      <td>56.000000</td>\n",
       "      <td>0.071338</td>\n",
       "    </tr>\n",
       "    <tr>\n",
       "      <th>25%</th>\n",
       "      <td>8761.500000</td>\n",
       "      <td>691.000000</td>\n",
       "      <td>146.500000</td>\n",
       "      <td>70.000000</td>\n",
       "      <td>0.079480</td>\n",
       "    </tr>\n",
       "    <tr>\n",
       "      <th>50%</th>\n",
       "      <td>9327.000000</td>\n",
       "      <td>736.000000</td>\n",
       "      <td>162.000000</td>\n",
       "      <td>91.000000</td>\n",
       "      <td>0.080716</td>\n",
       "    </tr>\n",
       "    <tr>\n",
       "      <th>75%</th>\n",
       "      <td>9770.500000</td>\n",
       "      <td>829.500000</td>\n",
       "      <td>175.000000</td>\n",
       "      <td>102.500000</td>\n",
       "      <td>0.084470</td>\n",
       "    </tr>\n",
       "    <tr>\n",
       "      <th>max</th>\n",
       "      <td>10667.000000</td>\n",
       "      <td>909.000000</td>\n",
       "      <td>233.000000</td>\n",
       "      <td>128.000000</td>\n",
       "      <td>0.088955</td>\n",
       "    </tr>\n",
       "  </tbody>\n",
       "</table>\n",
       "</div>"
      ],
      "text/plain": [
       "          Pageviews      Clicks  Enrollments    Payments        CTR\n",
       "count     23.000000   23.000000    23.000000   23.000000  23.000000\n",
       "mean    9224.478261  751.869565   164.565217   88.391304   0.081527\n",
       "std      850.295931   77.008444    29.977000   20.650202   0.003702\n",
       "min     7434.000000  632.000000   110.000000   56.000000   0.071338\n",
       "25%     8761.500000  691.000000   146.500000   70.000000   0.079480\n",
       "50%     9327.000000  736.000000   162.000000   91.000000   0.080716\n",
       "75%     9770.500000  829.500000   175.000000  102.500000   0.084470\n",
       "max    10667.000000  909.000000   233.000000  128.000000   0.088955"
      ]
     },
     "execution_count": 81,
     "metadata": {},
     "output_type": "execute_result"
    }
   ],
   "source": [
    "df_cont.describe()"
   ]
  },
  {
   "cell_type": "code",
   "execution_count": 82,
   "metadata": {},
   "outputs": [
    {
     "data": {
      "text/html": [
       "<div>\n",
       "<style scoped>\n",
       "    .dataframe tbody tr th:only-of-type {\n",
       "        vertical-align: middle;\n",
       "    }\n",
       "\n",
       "    .dataframe tbody tr th {\n",
       "        vertical-align: top;\n",
       "    }\n",
       "\n",
       "    .dataframe thead th {\n",
       "        text-align: right;\n",
       "    }\n",
       "</style>\n",
       "<table border=\"1\" class=\"dataframe\">\n",
       "  <thead>\n",
       "    <tr style=\"text-align: right;\">\n",
       "      <th></th>\n",
       "      <th>Pageviews</th>\n",
       "      <th>Clicks</th>\n",
       "      <th>Enrollments</th>\n",
       "      <th>Payments</th>\n",
       "      <th>CTR</th>\n",
       "    </tr>\n",
       "  </thead>\n",
       "  <tbody>\n",
       "    <tr>\n",
       "      <th>count</th>\n",
       "      <td>23.000000</td>\n",
       "      <td>23.000000</td>\n",
       "      <td>23.000000</td>\n",
       "      <td>23.000000</td>\n",
       "      <td>23.000000</td>\n",
       "    </tr>\n",
       "    <tr>\n",
       "      <th>mean</th>\n",
       "      <td>9189.652174</td>\n",
       "      <td>750.434783</td>\n",
       "      <td>148.826087</td>\n",
       "      <td>84.565217</td>\n",
       "      <td>0.081692</td>\n",
       "    </tr>\n",
       "    <tr>\n",
       "      <th>std</th>\n",
       "      <td>802.029619</td>\n",
       "      <td>70.323167</td>\n",
       "      <td>33.234227</td>\n",
       "      <td>23.060841</td>\n",
       "      <td>0.003394</td>\n",
       "    </tr>\n",
       "    <tr>\n",
       "      <th>min</th>\n",
       "      <td>7664.000000</td>\n",
       "      <td>642.000000</td>\n",
       "      <td>94.000000</td>\n",
       "      <td>34.000000</td>\n",
       "      <td>0.074133</td>\n",
       "    </tr>\n",
       "    <tr>\n",
       "      <th>25%</th>\n",
       "      <td>8692.000000</td>\n",
       "      <td>696.000000</td>\n",
       "      <td>127.000000</td>\n",
       "      <td>69.000000</td>\n",
       "      <td>0.078508</td>\n",
       "    </tr>\n",
       "    <tr>\n",
       "      <th>50%</th>\n",
       "      <td>9288.000000</td>\n",
       "      <td>728.000000</td>\n",
       "      <td>142.000000</td>\n",
       "      <td>91.000000</td>\n",
       "      <td>0.082264</td>\n",
       "    </tr>\n",
       "    <tr>\n",
       "      <th>75%</th>\n",
       "      <td>9696.000000</td>\n",
       "      <td>794.500000</td>\n",
       "      <td>172.000000</td>\n",
       "      <td>99.000000</td>\n",
       "      <td>0.084083</td>\n",
       "    </tr>\n",
       "    <tr>\n",
       "      <th>max</th>\n",
       "      <td>10551.000000</td>\n",
       "      <td>884.000000</td>\n",
       "      <td>213.000000</td>\n",
       "      <td>123.000000</td>\n",
       "      <td>0.088906</td>\n",
       "    </tr>\n",
       "  </tbody>\n",
       "</table>\n",
       "</div>"
      ],
      "text/plain": [
       "          Pageviews      Clicks  Enrollments    Payments        CTR\n",
       "count     23.000000   23.000000    23.000000   23.000000  23.000000\n",
       "mean    9189.652174  750.434783   148.826087   84.565217   0.081692\n",
       "std      802.029619   70.323167    33.234227   23.060841   0.003394\n",
       "min     7664.000000  642.000000    94.000000   34.000000   0.074133\n",
       "25%     8692.000000  696.000000   127.000000   69.000000   0.078508\n",
       "50%     9288.000000  728.000000   142.000000   91.000000   0.082264\n",
       "75%     9696.000000  794.500000   172.000000   99.000000   0.084083\n",
       "max    10551.000000  884.000000   213.000000  123.000000   0.088906"
      ]
     },
     "execution_count": 82,
     "metadata": {},
     "output_type": "execute_result"
    }
   ],
   "source": [
    "df_exp.describe()"
   ]
  },
  {
   "cell_type": "markdown",
   "metadata": {},
   "source": [
    "In order to ease the comparison between the two dataframs, we merge them and rename the columns accordingly."
   ]
  },
  {
   "cell_type": "code",
   "execution_count": 83,
   "metadata": {},
   "outputs": [],
   "source": [
    "df = pd.merge(df_cont, df_exp, on='Date')"
   ]
  },
  {
   "cell_type": "code",
   "execution_count": 84,
   "metadata": {},
   "outputs": [],
   "source": [
    "df.rename(columns={'Pageviews_x':'Pageviews_cont'}, inplace = True) \n",
    "df.rename(columns={'Clicks_x':'Clicks_cont'}, inplace = True) \n",
    "df.rename(columns={'Enrollments_x':'Enrollments_cont'}, inplace = True)\n",
    "df.rename(columns={'Payments_x':'Payments_cont'}, inplace = True) \n",
    "df.rename(columns={'CTR_x':'CTR_cont'}, inplace = True)\n",
    "df.rename(columns={'Pageviews_y':'Pageviews_exp'}, inplace = True) \n",
    "df.rename(columns={'Clicks_y':'Clicks_exp'}, inplace = True) \n",
    "df.rename(columns={'Enrollments_y':'Enrollments_exp'}, inplace = True)\n",
    "df.rename(columns={'Payments_y':'Payments_exp'}, inplace = True) \n",
    "df.rename(columns={'CTR_y':'CTR_exp'}, inplace = True)"
   ]
  },
  {
   "cell_type": "markdown",
   "metadata": {},
   "source": [
    "The date column is in string format, therefore we need to convert it to TimeStamp before using it in the analysis."
   ]
  },
  {
   "cell_type": "code",
   "execution_count": 85,
   "metadata": {},
   "outputs": [],
   "source": [
    "df['day_of_week']= df['Date'].apply(lambda Date: Date.split(',')[0])"
   ]
  },
  {
   "cell_type": "code",
   "execution_count": 86,
   "metadata": {},
   "outputs": [],
   "source": [
    "df['date']=df['Date'].apply(lambda Date: Date.split(',')[1])"
   ]
  },
  {
   "cell_type": "code",
   "execution_count": 87,
   "metadata": {},
   "outputs": [],
   "source": [
    "df['date'] = df['date'].str.strip()"
   ]
  },
  {
   "cell_type": "code",
   "execution_count": 88,
   "metadata": {},
   "outputs": [],
   "source": [
    "df['date']= df['date'].apply(lambda date: date + ' 2017')"
   ]
  },
  {
   "cell_type": "code",
   "execution_count": 89,
   "metadata": {},
   "outputs": [],
   "source": [
    "df['date'] =  pd.to_datetime(df['date'])"
   ]
  },
  {
   "cell_type": "markdown",
   "metadata": {},
   "source": [
    "## Checking Evaluation Metrics"
   ]
  },
  {
   "cell_type": "markdown",
   "metadata": {},
   "source": [
    "First, the success and secondary metrics are calculated for each day."
   ]
  },
  {
   "cell_type": "code",
   "execution_count": 90,
   "metadata": {},
   "outputs": [],
   "source": [
    "df['Net_conversion_cont']= df['Payments_cont']/df['Clicks_cont']\n",
    "df['Net_conversion_exp']= df['Payments_exp']/df['Clicks_exp']\n",
    "df['Gross_conversion_cont']= df['Enrollments_cont']/df['Clicks_cont']\n",
    "df['Gross_conversion_exp']= df['Enrollments_exp']/df['Clicks_exp']"
   ]
  },
  {
   "cell_type": "code",
   "execution_count": 91,
   "metadata": {},
   "outputs": [
    {
     "data": {
      "text/plain": [
       "Index(['Date', 'Pageviews_cont', 'Clicks_cont', 'Enrollments_cont',\n",
       "       'Payments_cont', 'CTR_cont', 'Pageviews_exp', 'Clicks_exp',\n",
       "       'Enrollments_exp', 'Payments_exp', 'CTR_exp', 'day_of_week', 'date',\n",
       "       'Net_conversion_cont', 'Net_conversion_exp', 'Gross_conversion_cont',\n",
       "       'Gross_conversion_exp'],\n",
       "      dtype='object')"
      ]
     },
     "execution_count": 91,
     "metadata": {},
     "output_type": "execute_result"
    }
   ],
   "source": [
    "df.columns"
   ]
  },
  {
   "cell_type": "markdown",
   "metadata": {},
   "source": [
    "### Checking the Success Metric"
   ]
  },
  {
   "cell_type": "code",
   "execution_count": 92,
   "metadata": {},
   "outputs": [
    {
     "name": "stdout",
     "output_type": "stream",
     "text": [
      "experiment Net Conversion Rate: 0.11337257964843532\n",
      "control Net Conversion Rate: 0.11826943663824471\n"
     ]
    },
    {
     "data": {
      "text/plain": [
       "Ttest_indResult(statistic=0.5387777625331603, pvalue=0.5927558614268024)"
      ]
     },
     "execution_count": 92,
     "metadata": {},
     "output_type": "execute_result"
    }
   ],
   "source": [
    "print('experiment Net Conversion Rate:', df.Net_conversion_exp.mean())\n",
    "print('control Net Conversion Rate:', df.Net_conversion_cont.mean())\n",
    "\n",
    "stats.ttest_ind(df.Net_conversion_cont,\n",
    "                df.Net_conversion_exp)"
   ]
  },
  {
   "cell_type": "markdown",
   "metadata": {},
   "source": [
    "The difference between the net conversion rates is not significant. Therefore we cannot reject the null hypothesis. However, the power of the test calculated before indicates that the sample size is not large enough that we can accept the null hypothesis either. We need to repeat the study with a larger sample size (min 46 days)"
   ]
  },
  {
   "cell_type": "markdown",
   "metadata": {},
   "source": [
    "### Checking the Secondary Metric"
   ]
  },
  {
   "cell_type": "code",
   "execution_count": 93,
   "metadata": {},
   "outputs": [
    {
     "name": "stdout",
     "output_type": "stream",
     "text": [
      "experiment Gross Conversion Rate: 0.19956638767058335\n",
      "control Gross Conversion Rate: 0.2203509696998493\n"
     ]
    },
    {
     "data": {
      "text/plain": [
       "Ttest_indResult(statistic=1.5396752696188791, pvalue=0.13080105104323278)"
      ]
     },
     "execution_count": 93,
     "metadata": {},
     "output_type": "execute_result"
    }
   ],
   "source": [
    "print('experiment Gross Conversion Rate:', df.Gross_conversion_exp.mean())\n",
    "print('control Gross Conversion Rate:', df.Gross_conversion_cont.mean())\n",
    "\n",
    "stats.ttest_ind(df.Gross_conversion_cont,\n",
    "                df.Gross_conversion_exp)"
   ]
  },
  {
   "cell_type": "markdown",
   "metadata": {},
   "source": [
    "The difference between the gross conversion rates is not significant. Therefore we cannot reject the null hypothesis. However, the power of the test calculated before indicates that the sample size is large enough so we can accept the null hypothesis. The result suggests that the intervention is not changing significantly the number of enrollments in the free trial. It seems, informing the students who are determined to start the free trial about the amount of time needed to complete the course does not affect their dicision to try the paid course for free. "
   ]
  },
  {
   "cell_type": "markdown",
   "metadata": {},
   "source": [
    "In order to better understand some of the underlying reasons for our observed results, we create some grapghs to compare the result for each date. "
   ]
  },
  {
   "cell_type": "code",
   "execution_count": 94,
   "metadata": {},
   "outputs": [
    {
     "data": {
      "image/png": "[encoded data removed]",
      "text/plain": [
       "<matplotlib.figure.Figure at 0x23490e12da0>"
      ]
     },
     "metadata": {},
     "output_type": "display_data"
    }
   ],
   "source": [
    "fig = df[\n",
    "    ['date', 'Gross_conversion_exp']].groupby('date').mean().plot()\n",
    "df[\n",
    "    ['date', 'Gross_conversion_cont']].groupby('date').mean().plot(ax=fig)\n",
    "plt.legend(['experiment','control'])\n",
    "plt.title('Comparing Gross conversion rate by date')\n",
    "plt.show()"
   ]
  },
  {
   "cell_type": "markdown",
   "metadata": {},
   "source": [
    "Comparing the gross conversion rate for the control and test group for each day of the study, we see the patterns of enrollment between the two groups has changed dramatically from the 28th of September to the end of the month for 4 days. It is suggested to look at these days specially and explore the reason behind this radical change."
   ]
  },
  {
   "cell_type": "code",
   "execution_count": 95,
   "metadata": {},
   "outputs": [
    {
     "data": {
      "image/png": "[encoded data removed]",
      "text/plain": [
       "<matplotlib.figure.Figure at 0x23490e6f828>"
      ]
     },
     "metadata": {},
     "output_type": "display_data"
    }
   ],
   "source": [
    "fig = df[\n",
    "    ['date', 'Net_conversion_exp']].groupby('date').mean().plot()\n",
    "df[\n",
    "    ['date', 'Net_conversion_cont']].groupby('date').mean().plot(ax=fig)\n",
    "plt.legend(['experiment','control'])\n",
    "plt.title('Comparing Net conversion rate by date')\n",
    "plt.show()"
   ]
  },
  {
   "cell_type": "code",
   "execution_count": 96,
   "metadata": {},
   "outputs": [
    {
     "data": {
      "text/plain": [
       "Text(0.425,0.5,'Net Conversion Rate Experiment')"
      ]
     },
     "execution_count": 96,
     "metadata": {},
     "output_type": "execute_result"
    },
    {
     "data": {
      "image/png": "[encoded data removed]",
      "text/plain": [
       "<matplotlib.figure.Figure at 0x23490e8b5c0>"
      ]
     },
     "metadata": {},
     "output_type": "display_data"
    }
   ],
   "source": [
    "sns.lmplot(x=\"Net_conversion_exp\", y=\"Net_conversion_cont\", data=df)\n",
    "plt.xlabel('Net Conversion Rate control')\n",
    "plt.ylabel('Net Conversion Rate Experiment')"
   ]
  },
  {
   "cell_type": "markdown",
   "metadata": {},
   "source": [
    "The two above graphs show the potential existance of some outliers or rare data. It requres further investigation on the number of coockies made payments 14 days after th start of the free trial to clear the status of these data. Also availability of more data as it was mentioned before can assist in analysis. "
   ]
  },
  {
   "cell_type": "markdown",
   "metadata": {},
   "source": [
    "# Conclusion and Recommendation\n",
    "\n",
    "The A/B test was designed to examine whether informing the website visitors interested in free trial about the amount of time they need to spend on the course, decreases the dropout rate during the free tria. The result showed that the decrease in enrollment rate in free trial is not statistically significant. Also, no recommendation can be made on the change in net conversion rate between the two groups. \n",
    "\n",
    "This result could be affected by the duration of the study (23 days). It is recommended that the experiment would be exexuted for about 46 days.\n",
    "\n"
   ]
  },
  {
   "cell_type": "code",
   "execution_count": null,
   "metadata": {},
   "outputs": [],
   "source": []
  }
 ],
 "metadata": {
  "kernelspec": {
   "display_name": "Python 3",
   "language": "python",
   "name": "python3"
  },
  "language_info": {
   "codemirror_mode": {
    "name": "ipython",
    "version": 3
   },
   "file_extension": ".py",
   "mimetype": "text/x-python",
   "name": "python",
   "nbconvert_exporter": "python",
   "pygments_lexer": "ipython3",
   "version": "3.6.4"
  }
 },
 "nbformat": 4,
 "nbformat_minor": 2
}
